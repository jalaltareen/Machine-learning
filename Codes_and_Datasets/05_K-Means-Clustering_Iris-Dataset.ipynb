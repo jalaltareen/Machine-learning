{
 "cells": [
  {
   "cell_type": "markdown",
   "metadata": {
    "colab_type": "text",
    "id": "dZHHP-nhk-bO"
   },
   "source": [
    "# K-means Clustering - Iris Dataset\n",
    "\n",
    "K-means is an unsupervised, iterative, convergent method used to split in k clusters a dataset of n elements. First, we randomly locate a set of k initial *centroids* with an associated cluster label, assigning to each point the label of the closest centroid. For each newly defined cluster, the *center of mass* is calculated and the centroid is moved to that position. The process is repeated until convergence is reached and the location of the centroids don't change.\n",
    "\n",
    "For this purpose, the Iris dataset will be used. It consists of 50 samples from each of three species of Iris (Iris setosa, Iris virginica and Iris versicolor). The dataset presents 4 variables: the length and the width of the sepals and petals, in centimeters. In order to visualize our clustering, only 2 of the variables will be chosen.\n",
    "\n",
    "*Note: Not to be confused with KNN! Some 'genius' decided to define the parameter of the model as k, just like KNN (it seems that 'q','r','p', or any other wasn't good enough)... try to avoid confusion at all cost! one method is supervised; the other isn't.*\n",
    "\n",
    "### Table of Contents\n",
    "- [0. Loading the Dataset](#0.-Loading-the-Dataset)\n",
    "- [1. K-Means Function](#1.-K-Means-Function)\n",
    "- [2. Finding Optimal k](#2.-Finding-Optimal-k)\n",
    "- [3.Visualization of the Clusters](#3.-Visualization-of-the-Clusters)"
   ]
  },
  {
   "cell_type": "markdown",
   "metadata": {
    "colab_type": "text",
    "id": "MSMTZ_kOlVQ6"
   },
   "source": [
    "## 0. Loading the Dataset"
   ]
  },
  {
   "cell_type": "code",
   "execution_count": 2,
   "metadata": {
    "colab": {},
    "colab_type": "code",
    "id": "VRxxHHsv_Z70"
   },
   "outputs": [],
   "source": [
    "import numpy   as np\n",
    "import scipy   as sc\n",
    "import sklearn as sk\n",
    "import pandas  as pd\n",
    "import random\n",
    "\n",
    "import matplotlib.pyplot as plt\n",
    "\n",
    "from sklearn.preprocessing  import scale\n",
    "from sklearn.datasets       import load_iris"
   ]
  },
  {
   "cell_type": "code",
   "execution_count": 4,
   "metadata": {},
   "outputs": [],
   "source": [
    "# Cargamos los datos\n",
    "iris=load_iris()\n",
    "X = iris.data\n",
    "\n",
    "#Use print iris.DESCR for a detailled description of the dataset (attributes, instances, summary statistics...)\n",
    "#print(iris.DESCR)"
   ]
  },
  {
   "cell_type": "markdown",
   "metadata": {},
   "source": [
    "## 1. K-Means Function"
   ]
  },
  {
   "cell_type": "markdown",
   "metadata": {},
   "source": [
    "We implement our K-means function. Please, read comments for clarifications."
   ]
  },
  {
   "cell_type": "code",
   "execution_count": 4,
   "metadata": {
    "colab": {},
    "colab_type": "code",
    "id": "mJPXWcq2Dr-5"
   },
   "outputs": [],
   "source": [
    "dist = lambda a, b: np.sqrt((a[0] - b[0]) ** 2 + (a[1] - b[1]) ** 2)\n",
    "\n",
    "def Kmeans(x1, x2, k, max_iters=20,dist=dist):\n",
    "  \n",
    "  colors = np.array([\"blue\", \"green\", \"red\", \"orange\", \"yellow\", \"skyblue\", \"lightgreen\", \"salmon\"])\n",
    "  Plot=plt.figure()\n",
    "  plt.title('a'+str(k))\n",
    "  \n",
    "  # Standardizing chosen variables\n",
    "  x1 = scale(x1, with_mean=True, with_std=True)\n",
    "  x2 = scale(x2, with_mean=True, with_std=True)\n",
    "  NewX=np.hstack((x1,x2))\n",
    "  \n",
    "  # We randomly initialize centroids, starting each time at the location of one of our points. We avoid repetition.\n",
    "  index_list = np.arange(x1.shape[0])\n",
    "  random.shuffle(index_list)\n",
    "  ic = index_list[:k]\n",
    "  centr = np.array([x1[ic, 0], x2[ic, 0]]).T \n",
    "  # To avoid additional problems (like centroids having one of the dimensions equal), we add a little noise\n",
    "  centr = centr + np.random.rand(np.shape(centr)[0],np.shape(centr)[1])/10  \n",
    "\n",
    "  # Visualizing centroids\n",
    "  for c in range(k):\n",
    "    plt.plot(centr[c, 0], centr[c, 1], marker=\"X\", markersize=15, c=colors[c])\n",
    "  # List to save successive positions of centroids\n",
    "  centr_iter = [centr.T]\n",
    "    \n",
    "  for step in range(max_iters):   \n",
    "    \n",
    "    # We calculate distances of every points to each centroid - array with shape (kx150)\n",
    "    distances = np.array([np.array(dist(centr[i], NewX.T)) for i in range(k)])\n",
    "    # Generate matrix indices: one row per point, where the column index (row number = k) determines the closest centroid\n",
    "    def only_put_nearest (d):\n",
    "      z = np.zeros(k, dtype=int)  \n",
    "      z[np.argmin(d)] = int(1)\n",
    "      return z\n",
    "    indices = np.matrix([only_put_nearest(d) for d in distances.T])\n",
    "    \n",
    "    # Generates 2 arrays of kx150 for x1 and x2 respectively, where x1/x2 components are separated by index in the k-rows\n",
    "    x1_sep = np.squeeze(np.array([np.prod([x1, indices[:,i]], axis=0) for i in range(k)]))\n",
    "    x2_sep = np.squeeze(np.array([np.prod([x2, indices[:,i]], axis=0) for i in range(k)]))\n",
    "    \n",
    "    # Now we can calculate the new averaged centroid positions with components in axes x1 and x2. This is the purpose of each step of k-means\n",
    "    c1_ = np.array([np.sum(x1_sep[i]) / np.count_nonzero(x1_sep[i]) for i in range(k)])\n",
    "    c2_ = np.array([np.sum(x2_sep[i]) / np.count_nonzero(x2_sep[i]) for i in range(k)])\n",
    "    \n",
    "    centr = np.squeeze(np.dstack((c1_,c2_)))    #We stack along the third axis, so it has the original shape. Squeeze needed to avoid unnecesary extra dimensions in array\n",
    "    \n",
    "    # Store the new centroid positions to plot trajectory afterwards (but! we will separate x1 and x2 --> transposed!)\n",
    "    centr_iter.append(centr.T)\n",
    "    \n",
    "  #We have centr_iter, an array of arrays containing all the steps taken by the moving centroids\n",
    "  centr_iter = np.array(centr_iter).T\n",
    "    \n",
    "  #Now we plot point in the final state, assigning the same color to all the points of each centroid\n",
    "  for c in range(k):\n",
    "    p1, p2 = x1_sep[c], x2_sep[c]\n",
    "    plt.scatter(p1[p1.nonzero()], p2[p2.nonzero()], color=colors[c], alpha=0.4)\n",
    "  \n",
    "  #On the other hand, we plot the final position of the centroid, and the trajectory followed\n",
    "  for c in range(k):\n",
    "    plt.plot(centr[c, 0], centr[c, 1], marker=\"o\", markersize=15, c=colors[c])\n",
    "    for iteration in centr_iter:\n",
    "      plt.plot(iteration[0], iteration[1], linewidth=1, c='black', linestyle='--')\n",
    "  \n",
    "  # Sum of the distances between each point and its centroid\n",
    "  TotalDistance = np.sum(np.prod([distances.T, indices], axis=0))\n",
    "  #We prevent the plot from being showed every time we use the function\n",
    "  plt.close()     \n",
    "  \n",
    "  return TotalDistance, Plot"
   ]
  },
  {
   "cell_type": "markdown",
   "metadata": {},
   "source": [
    "## 2. Finding Optimal k"
   ]
  },
  {
   "cell_type": "markdown",
   "metadata": {},
   "source": [
    "Now that we have our function implemented, we will try to find the optimal k (number of centroids). In order to do so, in the final state, we measure the distance of each point to its centroid, sum them all and average over different initializations for different k's. \n",
    "\n",
    "Defining the optimal k is not trivial though. The distance should, in principle, decrease with increasing k (until we reach k=n with sum of distances equal 0). The optimal  k is found for a value after which the slope flattens (check *elbow method*)."
   ]
  },
  {
   "cell_type": "code",
   "execution_count": 12,
   "metadata": {
    "colab": {
     "base_uri": "https://localhost:8080/",
     "height": 377
    },
    "colab_type": "code",
    "id": "2ifY1GstpTOh",
    "outputId": "8a7a221b-0c27-42e9-eea9-00f2d79de03a"
   },
   "outputs": [
    {
     "data": {
      "image/png": "[encoded data removed]",
      "text/plain": [
       "<Figure size 432x288 with 1 Axes>"
      ]
     },
     "metadata": {
      "needs_background": "light"
     },
     "output_type": "display_data"
    }
   ],
   "source": [
    "distances=[]\n",
    "distances_k=[]\n",
    "K_range=range(2,9)\n",
    "max_dummy=5\n",
    "\n",
    "for k in K_range:\n",
    "  \n",
    "  for dummy in range(max_dummy):\n",
    "    TotalDistance, Plot = Kmeans(X[:,0:1],X[:,1:2],k)\n",
    "    distances_k.append(TotalDistance)\n",
    "  \n",
    "  avg_distance_k = np.mean(distances_k)  \n",
    "  distances.append(avg_distance_k)\n",
    "  \n",
    "  distances_k=[]\n",
    "  avg_distance_k=[]\n",
    "  \n",
    "plt.plot(K_range,distances)\n",
    "plt.title('Optimizing Number of Centroids',fontsize=14)\n",
    "plt.xlabel('Number of Centroids')\n",
    "plt.ylabel('Total Averaged Distance to Centroid')\n",
    "plt.show()"
   ]
  },
  {
   "cell_type": "markdown",
   "metadata": {},
   "source": [
    "## 3. Visualization of the Clusters"
   ]
  },
  {
   "cell_type": "markdown",
   "metadata": {},
   "source": [
    "From the figure in last section, it is easy to see that the candidate for optimal k is k=3. And actually, that's the actual number of species: our method works!! Let's plot them and see how our dataset is finally clustered.\n",
    "\n",
    "*Note: In the following plot, the initial position of the centroid is marked with an X, and the final one with a O.*"
   ]
  },
  {
   "cell_type": "code",
   "execution_count": 9,
   "metadata": {
    "colab": {
     "base_uri": "https://localhost:8080/",
     "height": 346
    },
    "colab_type": "code",
    "id": "SUbLOJ_kzHHR",
    "outputId": "72becc8c-74f3-4696-e293-5a61cc143aaa"
   },
   "outputs": [
    {
     "data": {
      "image/png": "[encoded data removed]",
      "text/plain": [
       "<Figure size 432x288 with 1 Axes>"
      ]
     },
     "execution_count": 9,
     "metadata": {},
     "output_type": "execute_result"
    }
   ],
   "source": [
    "d,p1 = Kmeans(X[:,0:1],X[:,1:2],3)\n",
    "p1"
   ]
  }
 ],
 "metadata": {
  "colab": {
   "collapsed_sections": [],
   "name": "Exec 6 - K-Means.ipynb",
   "provenance": [],
   "version": "0.3.2"
  },
  "kernelspec": {
   "display_name": "Python 3",
   "language": "python",
   "name": "python3"
  },
  "language_info": {
   "codemirror_mode": {
    "name": "ipython",
    "version": 3
   },
   "file_extension": ".py",
   "mimetype": "text/x-python",
   "name": "python",
   "nbconvert_exporter": "python",
   "pygments_lexer": "ipython3",
   "version": "3.6.7"
  }
 },
 "nbformat": 4,
 "nbformat_minor": 1
}
